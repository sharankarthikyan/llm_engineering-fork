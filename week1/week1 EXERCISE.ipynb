{
 "cells": [
  {
   "cell_type": "markdown",
   "id": "fe12c203-e6a6-452c-a655-afb8a03a4ff5",
   "metadata": {},
   "source": [
    "# End of week 1 exercise\n",
    "\n",
    "To demonstrate your familiarity with OpenAI API, and also Ollama, build a tool that takes a technical question,  \n",
    "and responds with an explanation. This is a tool that you will be able to use yourself during the course!"
   ]
  },
  {
   "cell_type": "code",
   "execution_count": 18,
   "id": "c1070317-3ed9-4659-abe3-828943230e03",
   "metadata": {},
   "outputs": [],
   "source": [
    "# imports\n",
    "\n",
    "import os\n",
    "import requests\n",
    "import ollama\n",
    "from dotenv import load_dotenv\n",
    "from openai import OpenAI\n",
    "from IPython.display import Markdown, display, update_display"
   ]
  },
  {
   "cell_type": "code",
   "execution_count": 10,
   "id": "4a456906-915a-4bfd-bb9d-57e505c5093f",
   "metadata": {},
   "outputs": [],
   "source": [
    "# constants\n",
    "\n",
    "MODEL_GPT = 'gpt-4o-mini'\n",
    "MODEL_LLAMA = 'llama3.2'"
   ]
  },
  {
   "cell_type": "code",
   "execution_count": 11,
   "id": "a8d7923c-5f28-4c30-8556-342d7c8497c1",
   "metadata": {},
   "outputs": [],
   "source": [
    "# set up environment\n",
    "load_dotenv()\n",
    "openai = OpenAI()"
   ]
  },
  {
   "cell_type": "code",
   "execution_count": 12,
   "id": "3f0d0137-52b0-47a8-81a8-11a90a010798",
   "metadata": {},
   "outputs": [],
   "source": [
    "# here is the question; type over this to ask something new\n",
    "\n",
    "question = \"\"\"\n",
    "Please explain what this code does and why:\n",
    "yield from {book.get(\"author\") for book in books if book.get(\"author\")}\n",
    "\"\"\""
   ]
  },
  {
   "cell_type": "code",
   "execution_count": 19,
   "id": "1fcc785b-bdea-48c2-aef0-6f55d8028061",
   "metadata": {},
   "outputs": [
    {
     "data": {
      "text/markdown": [
       "This code snippet uses a generator expression combined with set comprehension to yield authors from a collection of book dictionaries. Let's break it down step by step:\n",
       "\n",
       "1. **Context**: This code likely exists in a function that uses the `yield` statement, which is a feature of Python that allows the function to produce a series of values over time, rather than returning a single value. This makes it a generator function.\n",
       "\n",
       "2. **Books Collection**: The variable `books` is presumably a list (or any iterable) of dictionaries, where each dictionary represents a book. Each book dictionary is expected to have an \"author\" key, among potentially other information.\n",
       "\n",
       "3. **Set Comprehension `{...}`**: The expression `{book.get(\"author\") for book in books if book.get(\"author\")}` constructs a set containing authors of the books. Here's how it works:\n",
       "   - `for book in books`: Iterates over each book dictionary in the `books` iterable.\n",
       "   - `book.get(\"author\")`: Retrieves the value associated with the \"author\" key for each book. If the key does not exist, `get` will return `None`.\n",
       "   - `if book.get(\"author\")`: This condition ensures that only books with a valid author (i.e., not `None` or empty) are included. If `book.get(\"author\")` evaluates to something falsy (like `None` or an empty string), that book's author will be skipped.\n",
       "\n",
       "4. **Yielding Values**: The `yield from` statement takes each element produced by the set comprehension and yields it one at a time. The `yield from` expression is used here to yield all unique authors in the set created by the comprehension.\n",
       "\n",
       "### Purpose\n",
       "\n",
       "The overall functionality of this code is to iterate over a list of books and yield the authors without duplicates, effectively producing a generator of unique authors. This can be useful for scenarios where you want to process or utilize the authors' names further in your code, for example, printing them or storing them in a database, all while ensuring that each author's name is only yielded once.\n",
       "\n",
       "### Example\n",
       "\n",
       "For example, if you have the following list of books:\n",
       "\n",
       "```python\n",
       "books = [\n",
       "    {\"title\": \"Book A\", \"author\": \"Author 1\"},\n",
       "    {\"title\": \"Book B\", \"author\": \"Author 2\"},\n",
       "    {\"title\": \"Book C\", \"author\": \"Author 1\"},\n",
       "    {\"title\": \"Book D\"},\n",
       "    {\"title\": \"Book E\", \"author\": None},\n",
       "]\n",
       "```\n",
       "\n",
       "The code will yield:\n",
       "- \"Author 1\"\n",
       "- \"Author 2\"\n",
       "\n",
       "And \"Author 1\" won't be repeated because it's captured in a set, preventing duplicates."
      ],
      "text/plain": [
       "<IPython.core.display.Markdown object>"
      ]
     },
     "metadata": {},
     "output_type": "display_data"
    }
   ],
   "source": [
    "# Get gpt-4o-mini to answer, with streaming\n",
    "\n",
    "stream = openai.chat.completions.create(\n",
    "    model=\"gpt-4o-mini\", \n",
    "    messages=[\n",
    "        {\"role\": \"user\", \"content\": question}\n",
    "    ], \n",
    "    stream=True\n",
    ")\n",
    "\n",
    "response = \"\"\n",
    "display_handle = display(Markdown(\"\"), display_id=True)\n",
    "for chunk in stream:\n",
    "    response += chunk.choices[0].delta.content or ''\n",
    "    update_display(Markdown(response), display_id=display_handle.display_id)"
   ]
  },
  {
   "cell_type": "code",
   "execution_count": 22,
   "id": "8f7c8ea8-4082-4ad0-8751-3301adcf6538",
   "metadata": {},
   "outputs": [
    {
     "data": {
      "text/markdown": [
       "This line of code is written in Python. It's using a combination of the `yield` keyword, generator expressions, and dictionary methods to extract specific data from a list of dictionaries.\n",
       "\n",
       "Here's a breakdown:\n",
       "\n",
       "- `yield from`: This keyword is used to \"yield\" values from another iterable (like a generator expression). When used with `from`, it means \"yield all items from this iterable\".\n",
       "\n",
       "- `{book.get(\"author\") for book in books if book.get(\"author\")}`: This is a generator expression. It's similar to a list comprehension, but instead of creating a new list, it generates values on-the-fly.\n",
       "\n",
       "  - `for book in books`: Iterates over each item (dictionary) in the `books` list.\n",
       "  \n",
       "  - `if book.get(\"author\")`: Filters out any items where \"author\" key is not present or does not have a value.\n",
       "\n",
       "- `get()`: This method is used to access values within dictionaries. If a key doesn't exist, it returns `None` by default (this can be changed with the second argument).\n",
       "\n",
       "So, when put together, this code will yield all authors that are present in the books list.\n",
       "\n",
       "Here's an example:\n",
       "\n",
       "```python\n",
       "books = [\n",
       "    {\"title\": \"Book1\", \"author\": \"Author1\"},\n",
       "    {\"title\": \"Book2\", \"publisher\": \"Publisher1\"},  # No author here!\n",
       "    {\"title\": \"Book3\", \"author\": \"Author2\"}\n",
       "]\n",
       "\n",
       "authors = yield from {book.get(\"author\") for book in books if book.get(\"author\")}\n",
       "```\n",
       "\n",
       "This would output:\n",
       "\n",
       "```python\n",
       "['Author1', 'Author2']\n",
       "```\n",
       "\n",
       "Note that `yield from` is a way of delegating the creation of iterators to another iterable, allowing you to generate values more effectively. It's commonly used when building complex data pipelines or handling large datasets in Python."
      ],
      "text/plain": [
       "<IPython.core.display.Markdown object>"
      ]
     },
     "execution_count": 22,
     "metadata": {},
     "output_type": "execute_result"
    }
   ],
   "source": [
    "# Get Llama 3.2 to answer\n",
    "response = ollama.chat(model=\"llama3.2\", messages=[\n",
    "    {\"role\": \"user\", \"content\": question}\n",
    "])\n",
    "\n",
    "Markdown(response['message']['content'])"
   ]
  },
  {
   "cell_type": "code",
   "execution_count": null,
   "id": "f614e780-6f67-4154-99b1-825317d45eda",
   "metadata": {},
   "outputs": [],
   "source": []
  }
 ],
 "metadata": {
  "kernelspec": {
   "display_name": "Python 3 (ipykernel)",
   "language": "python",
   "name": "python3"
  },
  "language_info": {
   "codemirror_mode": {
    "name": "ipython",
    "version": 3
   },
   "file_extension": ".py",
   "mimetype": "text/x-python",
   "name": "python",
   "nbconvert_exporter": "python",
   "pygments_lexer": "ipython3",
   "version": "3.11.13"
  }
 },
 "nbformat": 4,
 "nbformat_minor": 5
}
