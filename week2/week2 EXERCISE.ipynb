{
 "cells": [
  {
   "cell_type": "markdown",
   "id": "d006b2ea-9dfe-49c7-88a9-a5a0775185fd",
   "metadata": {},
   "source": [
    "# Additional End of week Exercise - week 2\n",
    "\n",
    "Now use everything you've learned from Week 2 to build a full prototype for the technical question/answerer you built in Week 1 Exercise.\n",
    "\n",
    "This should include a Gradio UI, streaming, use of the system prompt to add expertise, and the ability to switch between models. Bonus points if you can demonstrate use of a tool!\n",
    "\n",
    "If you feel bold, see if you can add audio input so you can talk to it, and have it respond with audio. ChatGPT or Claude can help you, or email me if you have questions.\n",
    "\n",
    "I will publish a full solution here soon - unless someone beats me to it...\n",
    "\n",
    "There are so many commercial applications for this, from a language tutor, to a company onboarding solution, to a companion AI to a course (like this one!) I can't wait to see your results."
   ]
  },
  {
   "cell_type": "code",
   "execution_count": 1,
   "id": "a07e7793-b8f5-44f4-aded-5562f633271a",
   "metadata": {},
   "outputs": [],
   "source": [
    "import os\n",
    "import json\n",
    "from dotenv import load_dotenv\n",
    "from openai import OpenAI\n",
    "import gradio as gr"
   ]
  },
  {
   "cell_type": "code",
   "execution_count": 2,
   "id": "a1fe5912-a96d-4b3e-b373-8844568f989d",
   "metadata": {},
   "outputs": [
    {
     "data": {
      "text/plain": [
       "True"
      ]
     },
     "execution_count": 2,
     "metadata": {},
     "output_type": "execute_result"
    }
   ],
   "source": [
    "load_dotenv()"
   ]
  },
  {
   "cell_type": "code",
   "execution_count": 3,
   "id": "211bb22d-6162-4ac8-b569-95c179410669",
   "metadata": {},
   "outputs": [],
   "source": [
    "MODEL=\"gpt-4o-mini\""
   ]
  },
  {
   "cell_type": "code",
   "execution_count": 4,
   "id": "41b8d2a9-1764-4de5-b017-68c140942884",
   "metadata": {},
   "outputs": [],
   "source": [
    "system_message = \"\"\"You are an airline assistant. \n",
    "Only use the get_destination_price function when the user specifically asks about flight prices, costs, or wants to travel to a specific destination.\n",
    "For general greetings, questions, or conversations that don't involve travel pricing, respond normally without using any tools.\"\"\""
   ]
  },
  {
   "cell_type": "code",
   "execution_count": 11,
   "id": "fb8f6240-15d6-4ba5-bdbe-699a883e5471",
   "metadata": {},
   "outputs": [],
   "source": [
    "city_price_map = {\"london\": \"$1000\", \"new york city\": \"$1200\", \"chicago\": \"$400\", \"california\": \"$900\"}\n",
    "def get_destination_price(destination_city: str) -> str:\n",
    "    city = destination_city.lower()\n",
    "    return city_price_map.get(city, \"Unknown\")"
   ]
  },
  {
   "cell_type": "code",
   "execution_count": 12,
   "id": "64b8b19c-abd4-4b96-b16a-a48dfa7a9960",
   "metadata": {},
   "outputs": [],
   "source": [
    "price_function = {\n",
    "    \"type\": \"function\",\n",
    "    \"function\": {\n",
    "        \"name\": \"get_destination_price\",\n",
    "        \"description\": \"Get price information for a destination\",\n",
    "        \"parameters\": {\n",
    "            \"type\": \"object\",\n",
    "            \"properties\": {\n",
    "                \"destination_city\": {\n",
    "                    \"type\": \"string\",\n",
    "                    \"description\": \"The destination city\"\n",
    "                }\n",
    "            },\n",
    "            \"required\": [\"destination_city\"],\n",
    "            \"additionalProperties\": False\n",
    "        }\n",
    "    }\n",
    "}"
   ]
  },
  {
   "cell_type": "code",
   "execution_count": 13,
   "id": "30a28873-f867-4238-a0a9-071dbdc47e66",
   "metadata": {},
   "outputs": [],
   "source": [
    "openai = OpenAI()"
   ]
  },
  {
   "cell_type": "code",
   "execution_count": 14,
   "id": "4d41e3bf-77b7-4896-a8e8-a8cea867ea20",
   "metadata": {},
   "outputs": [],
   "source": [
    "def handle_tool_call(message):\n",
    "    tool_call = message.tool_calls[0]\n",
    "    arguments = json.loads(tool_call.function.arguments)\n",
    "    city = arguments.get('destination_city')\n",
    "    price = get_destination_price(city)\n",
    "    response = {\n",
    "        \"role\": \"tool\",\n",
    "        \"content\": json.dumps({\"destination_city\": city,\"price\": price}),\n",
    "        \"tool_call_id\": tool_call.id\n",
    "    }\n",
    "    return response, city"
   ]
  },
  {
   "cell_type": "code",
   "execution_count": 19,
   "id": "cd66eeb5-aef5-466f-9ab4-41a3538657a8",
   "metadata": {},
   "outputs": [],
   "source": [
    "def chat(message, history):\n",
    "    messages = [{\"role\": \"system\", \"content\": system_message}] + history + [{\"role\": \"user\", \"content\": message}]\n",
    "    response = openai.chat.completions.create(model=MODEL, messages=messages, tools=[price_function])\n",
    "\n",
    "    if response.choices[0].finish_reason==\"tool_calls\":\n",
    "        message = response.choices[0].message\n",
    "        response, city = handle_tool_call(message)\n",
    "        messages.append(message)\n",
    "        messages.append(response)\n",
    "        print(messages)\n",
    "        response = openai.chat.completions.create(model=MODEL, messages=messages)\n",
    "    \n",
    "    return response.choices[0].message.content"
   ]
  },
  {
   "cell_type": "code",
   "execution_count": 20,
   "id": "37a9c1b6-67bd-4002-a1c4-66daeda199a7",
   "metadata": {},
   "outputs": [
    {
     "name": "stdout",
     "output_type": "stream",
     "text": [
      "* Running on local URL:  http://127.0.0.1:7863\n",
      "* To create a public link, set `share=True` in `launch()`.\n"
     ]
    },
    {
     "data": {
      "text/html": [
       "<div><iframe src=\"http://127.0.0.1:7863/\" width=\"100%\" height=\"500\" allow=\"autoplay; camera; microphone; clipboard-read; clipboard-write;\" frameborder=\"0\" allowfullscreen></iframe></div>"
      ],
      "text/plain": [
       "<IPython.core.display.HTML object>"
      ]
     },
     "metadata": {},
     "output_type": "display_data"
    },
    {
     "data": {
      "text/plain": []
     },
     "execution_count": 20,
     "metadata": {},
     "output_type": "execute_result"
    },
    {
     "name": "stdout",
     "output_type": "stream",
     "text": [
      "[{'role': 'system', 'content': \"You are an airline assistant. \\nOnly use the get_destination_price function when the user specifically asks about flight prices, costs, or wants to travel to a specific destination.\\nFor general greetings, questions, or conversations that don't involve travel pricing, respond normally without using any tools.\"}, {'role': 'user', 'metadata': None, 'content': 'Hi, I want to go to London', 'options': None}, {'role': 'assistant', 'metadata': None, 'content': 'That sounds great! London is a wonderful city to visit. If you need information about flight prices to London, just let me know!', 'options': None}, {'role': 'user', 'metadata': None, 'content': 'yes', 'options': None}, {'role': 'assistant', 'metadata': None, 'content': 'Could you please tell me the specific destination city within London you would like to know the flight price for?', 'options': None}, {'role': 'user', 'metadata': None, 'content': 'yes', 'options': None}, {'role': 'assistant', 'metadata': None, 'content': 'Could you please specify the name of the destination city in London for which you would like to know the flight price?', 'options': None}, {'role': 'user', 'content': 'I want to go to london'}, ChatCompletionMessage(content=None, refusal=None, role='assistant', annotations=[], audio=None, function_call=None, tool_calls=[ChatCompletionMessageToolCall(id='call_x4tMUZnCl6FLAbhxEvbX65vj', function=Function(arguments='{\"destination_city\":\"London\"}', name='get_destination_price'), type='function')]), {'role': 'tool', 'content': '{\"destination_city\": \"London\", \"price\": \"$1000\"}', 'tool_call_id': 'call_x4tMUZnCl6FLAbhxEvbX65vj'}]\n"
     ]
    }
   ],
   "source": [
    "gr.ChatInterface(fn=chat, type=\"messages\").launch()"
   ]
  },
  {
   "cell_type": "code",
   "execution_count": null,
   "id": "56a0a681-411c-4640-b5c9-acb61b0e7208",
   "metadata": {},
   "outputs": [],
   "source": []
  }
 ],
 "metadata": {
  "kernelspec": {
   "display_name": "Python 3 (ipykernel)",
   "language": "python",
   "name": "python3"
  },
  "language_info": {
   "codemirror_mode": {
    "name": "ipython",
    "version": 3
   },
   "file_extension": ".py",
   "mimetype": "text/x-python",
   "name": "python",
   "nbconvert_exporter": "python",
   "pygments_lexer": "ipython3",
   "version": "3.11.13"
  }
 },
 "nbformat": 4,
 "nbformat_minor": 5
}
